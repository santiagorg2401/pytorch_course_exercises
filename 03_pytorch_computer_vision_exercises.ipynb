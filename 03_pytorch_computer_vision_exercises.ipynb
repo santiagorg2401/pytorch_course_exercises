{
  "nbformat": 4,
  "nbformat_minor": 0,
  "metadata": {
    "colab": {
      "provenance": [],
      "include_colab_link": true
    },
    "kernelspec": {
      "name": "python3",
      "display_name": "Python 3"
    },
    "language_info": {
      "name": "python"
    },
    "accelerator": "GPU",
    "widgets": {
      "application/vnd.jupyter.widget-state+json": {
        "4772f7dbdd064b50bcf7e47571f87e29": {
          "model_module": "@jupyter-widgets/controls",
          "model_name": "HBoxModel",
          "model_module_version": "1.5.0",
          "state": {
            "_dom_classes": [],
            "_model_module": "@jupyter-widgets/controls",
            "_model_module_version": "1.5.0",
            "_model_name": "HBoxModel",
            "_view_count": null,
            "_view_module": "@jupyter-widgets/controls",
            "_view_module_version": "1.5.0",
            "_view_name": "HBoxView",
            "box_style": "",
            "children": [
              "IPY_MODEL_5763fafde0c34de2acaa6cb872ec5841",
              "IPY_MODEL_16e44ad60d5641da9fc91fedead42afb",
              "IPY_MODEL_158f61aac5a2452c8708ec5b29cca085"
            ],
            "layout": "IPY_MODEL_2049cba5c8464e0691e4b435029831d0"
          }
        },
        "5763fafde0c34de2acaa6cb872ec5841": {
          "model_module": "@jupyter-widgets/controls",
          "model_name": "HTMLModel",
          "model_module_version": "1.5.0",
          "state": {
            "_dom_classes": [],
            "_model_module": "@jupyter-widgets/controls",
            "_model_module_version": "1.5.0",
            "_model_name": "HTMLModel",
            "_view_count": null,
            "_view_module": "@jupyter-widgets/controls",
            "_view_module_version": "1.5.0",
            "_view_name": "HTMLView",
            "description": "",
            "description_tooltip": null,
            "layout": "IPY_MODEL_a2441b3041e648c18a605655e2d36c65",
            "placeholder": "​",
            "style": "IPY_MODEL_3790b67fe9aa4787abf2aa3f36e543bd",
            "value": "Making predictions ...: 100%"
          }
        },
        "16e44ad60d5641da9fc91fedead42afb": {
          "model_module": "@jupyter-widgets/controls",
          "model_name": "FloatProgressModel",
          "model_module_version": "1.5.0",
          "state": {
            "_dom_classes": [],
            "_model_module": "@jupyter-widgets/controls",
            "_model_module_version": "1.5.0",
            "_model_name": "FloatProgressModel",
            "_view_count": null,
            "_view_module": "@jupyter-widgets/controls",
            "_view_module_version": "1.5.0",
            "_view_name": "ProgressView",
            "bar_style": "success",
            "description": "",
            "description_tooltip": null,
            "layout": "IPY_MODEL_c4ce69bc51a5478794201d2c237bb4b3",
            "max": 313,
            "min": 0,
            "orientation": "horizontal",
            "style": "IPY_MODEL_8faf0de6368b4ca183d4b27d77eb28e4",
            "value": 313
          }
        },
        "158f61aac5a2452c8708ec5b29cca085": {
          "model_module": "@jupyter-widgets/controls",
          "model_name": "HTMLModel",
          "model_module_version": "1.5.0",
          "state": {
            "_dom_classes": [],
            "_model_module": "@jupyter-widgets/controls",
            "_model_module_version": "1.5.0",
            "_model_name": "HTMLModel",
            "_view_count": null,
            "_view_module": "@jupyter-widgets/controls",
            "_view_module_version": "1.5.0",
            "_view_name": "HTMLView",
            "description": "",
            "description_tooltip": null,
            "layout": "IPY_MODEL_d190b89024c94000899aa47ad01b167a",
            "placeholder": "​",
            "style": "IPY_MODEL_8e335ced5d0f4f28a3d5aaf12a86dc86",
            "value": " 313/313 [00:01&lt;00:00, 257.65it/s]"
          }
        },
        "2049cba5c8464e0691e4b435029831d0": {
          "model_module": "@jupyter-widgets/base",
          "model_name": "LayoutModel",
          "model_module_version": "1.2.0",
          "state": {
            "_model_module": "@jupyter-widgets/base",
            "_model_module_version": "1.2.0",
            "_model_name": "LayoutModel",
            "_view_count": null,
            "_view_module": "@jupyter-widgets/base",
            "_view_module_version": "1.2.0",
            "_view_name": "LayoutView",
            "align_content": null,
            "align_items": null,
            "align_self": null,
            "border": null,
            "bottom": null,
            "display": null,
            "flex": null,
            "flex_flow": null,
            "grid_area": null,
            "grid_auto_columns": null,
            "grid_auto_flow": null,
            "grid_auto_rows": null,
            "grid_column": null,
            "grid_gap": null,
            "grid_row": null,
            "grid_template_areas": null,
            "grid_template_columns": null,
            "grid_template_rows": null,
            "height": null,
            "justify_content": null,
            "justify_items": null,
            "left": null,
            "margin": null,
            "max_height": null,
            "max_width": null,
            "min_height": null,
            "min_width": null,
            "object_fit": null,
            "object_position": null,
            "order": null,
            "overflow": null,
            "overflow_x": null,
            "overflow_y": null,
            "padding": null,
            "right": null,
            "top": null,
            "visibility": null,
            "width": null
          }
        },
        "a2441b3041e648c18a605655e2d36c65": {
          "model_module": "@jupyter-widgets/base",
          "model_name": "LayoutModel",
          "model_module_version": "1.2.0",
          "state": {
            "_model_module": "@jupyter-widgets/base",
            "_model_module_version": "1.2.0",
            "_model_name": "LayoutModel",
            "_view_count": null,
            "_view_module": "@jupyter-widgets/base",
            "_view_module_version": "1.2.0",
            "_view_name": "LayoutView",
            "align_content": null,
            "align_items": null,
            "align_self": null,
            "border": null,
            "bottom": null,
            "display": null,
            "flex": null,
            "flex_flow": null,
            "grid_area": null,
            "grid_auto_columns": null,
            "grid_auto_flow": null,
            "grid_auto_rows": null,
            "grid_column": null,
            "grid_gap": null,
            "grid_row": null,
            "grid_template_areas": null,
            "grid_template_columns": null,
            "grid_template_rows": null,
            "height": null,
            "justify_content": null,
            "justify_items": null,
            "left": null,
            "margin": null,
            "max_height": null,
            "max_width": null,
            "min_height": null,
            "min_width": null,
            "object_fit": null,
            "object_position": null,
            "order": null,
            "overflow": null,
            "overflow_x": null,
            "overflow_y": null,
            "padding": null,
            "right": null,
            "top": null,
            "visibility": null,
            "width": null
          }
        },
        "3790b67fe9aa4787abf2aa3f36e543bd": {
          "model_module": "@jupyter-widgets/controls",
          "model_name": "DescriptionStyleModel",
          "model_module_version": "1.5.0",
          "state": {
            "_model_module": "@jupyter-widgets/controls",
            "_model_module_version": "1.5.0",
            "_model_name": "DescriptionStyleModel",
            "_view_count": null,
            "_view_module": "@jupyter-widgets/base",
            "_view_module_version": "1.2.0",
            "_view_name": "StyleView",
            "description_width": ""
          }
        },
        "c4ce69bc51a5478794201d2c237bb4b3": {
          "model_module": "@jupyter-widgets/base",
          "model_name": "LayoutModel",
          "model_module_version": "1.2.0",
          "state": {
            "_model_module": "@jupyter-widgets/base",
            "_model_module_version": "1.2.0",
            "_model_name": "LayoutModel",
            "_view_count": null,
            "_view_module": "@jupyter-widgets/base",
            "_view_module_version": "1.2.0",
            "_view_name": "LayoutView",
            "align_content": null,
            "align_items": null,
            "align_self": null,
            "border": null,
            "bottom": null,
            "display": null,
            "flex": null,
            "flex_flow": null,
            "grid_area": null,
            "grid_auto_columns": null,
            "grid_auto_flow": null,
            "grid_auto_rows": null,
            "grid_column": null,
            "grid_gap": null,
            "grid_row": null,
            "grid_template_areas": null,
            "grid_template_columns": null,
            "grid_template_rows": null,
            "height": null,
            "justify_content": null,
            "justify_items": null,
            "left": null,
            "margin": null,
            "max_height": null,
            "max_width": null,
            "min_height": null,
            "min_width": null,
            "object_fit": null,
            "object_position": null,
            "order": null,
            "overflow": null,
            "overflow_x": null,
            "overflow_y": null,
            "padding": null,
            "right": null,
            "top": null,
            "visibility": null,
            "width": null
          }
        },
        "8faf0de6368b4ca183d4b27d77eb28e4": {
          "model_module": "@jupyter-widgets/controls",
          "model_name": "ProgressStyleModel",
          "model_module_version": "1.5.0",
          "state": {
            "_model_module": "@jupyter-widgets/controls",
            "_model_module_version": "1.5.0",
            "_model_name": "ProgressStyleModel",
            "_view_count": null,
            "_view_module": "@jupyter-widgets/base",
            "_view_module_version": "1.2.0",
            "_view_name": "StyleView",
            "bar_color": null,
            "description_width": ""
          }
        },
        "d190b89024c94000899aa47ad01b167a": {
          "model_module": "@jupyter-widgets/base",
          "model_name": "LayoutModel",
          "model_module_version": "1.2.0",
          "state": {
            "_model_module": "@jupyter-widgets/base",
            "_model_module_version": "1.2.0",
            "_model_name": "LayoutModel",
            "_view_count": null,
            "_view_module": "@jupyter-widgets/base",
            "_view_module_version": "1.2.0",
            "_view_name": "LayoutView",
            "align_content": null,
            "align_items": null,
            "align_self": null,
            "border": null,
            "bottom": null,
            "display": null,
            "flex": null,
            "flex_flow": null,
            "grid_area": null,
            "grid_auto_columns": null,
            "grid_auto_flow": null,
            "grid_auto_rows": null,
            "grid_column": null,
            "grid_gap": null,
            "grid_row": null,
            "grid_template_areas": null,
            "grid_template_columns": null,
            "grid_template_rows": null,
            "height": null,
            "justify_content": null,
            "justify_items": null,
            "left": null,
            "margin": null,
            "max_height": null,
            "max_width": null,
            "min_height": null,
            "min_width": null,
            "object_fit": null,
            "object_position": null,
            "order": null,
            "overflow": null,
            "overflow_x": null,
            "overflow_y": null,
            "padding": null,
            "right": null,
            "top": null,
            "visibility": null,
            "width": null
          }
        },
        "8e335ced5d0f4f28a3d5aaf12a86dc86": {
          "model_module": "@jupyter-widgets/controls",
          "model_name": "DescriptionStyleModel",
          "model_module_version": "1.5.0",
          "state": {
            "_model_module": "@jupyter-widgets/controls",
            "_model_module_version": "1.5.0",
            "_model_name": "DescriptionStyleModel",
            "_view_count": null,
            "_view_module": "@jupyter-widgets/base",
            "_view_module_version": "1.2.0",
            "_view_name": "StyleView",
            "description_width": ""
          }
        }
      }
    }
  },
  "cells": [
    {
      "cell_type": "markdown",
      "metadata": {
        "id": "view-in-github",
        "colab_type": "text"
      },
      "source": [
        "<a href=\"https://colab.research.google.com/github/santiagorg2401/pytorch_course_exercises/blob/main/03_pytorch_computer_vision_exercises.ipynb\" target=\"_parent\"><img src=\"https://colab.research.google.com/assets/colab-badge.svg\" alt=\"Open In Colab\"/></a>"
      ]
    },
    {
      "cell_type": "markdown",
      "source": [
        "# 03. PyTorch Computer Vision Exercises\n",
        "\n",
        "The following is a collection of exercises based on computer vision fundamentals in PyTorch.\n",
        "\n",
        "They're a bunch of fun.\n",
        "\n",
        "You're going to get to write plenty of code!\n",
        "\n",
        "## Resources\n",
        "\n",
        "1. These exercises are based on [notebook 03 of the Learn PyTorch for Deep Learning course](https://www.learnpytorch.io/03_pytorch_computer_vision/).\n",
        "2. See a live [walkthrough of the solutions (errors and all) on YouTube](https://youtu.be/_PibmqpEyhA).\n",
        "  * **Note:** Going through these exercises took me just over 3 hours of solid coding, so you should expect around the same.\n",
        "3. See [other solutions on the course GitHub](https://github.com/mrdbourke/pytorch-deep-learning/tree/main/extras/solutions)."
      ],
      "metadata": {
        "id": "Vex99np2wFVt"
      }
    },
    {
      "cell_type": "code",
      "source": [
        "# Check for GPU\n",
        "!nvidia-smi"
      ],
      "metadata": {
        "colab": {
          "base_uri": "https://localhost:8080/"
        },
        "id": "GaeYzOTLwWh2",
        "outputId": "f4956905-f1f1-4ff0-975a-8a03b94a6178"
      },
      "execution_count": 1,
      "outputs": [
        {
          "output_type": "stream",
          "name": "stdout",
          "text": [
            "Fri May  3 18:30:57 2024       \n",
            "+---------------------------------------------------------------------------------------+\n",
            "| NVIDIA-SMI 535.104.05             Driver Version: 535.104.05   CUDA Version: 12.2     |\n",
            "|-----------------------------------------+----------------------+----------------------+\n",
            "| GPU  Name                 Persistence-M | Bus-Id        Disp.A | Volatile Uncorr. ECC |\n",
            "| Fan  Temp   Perf          Pwr:Usage/Cap |         Memory-Usage | GPU-Util  Compute M. |\n",
            "|                                         |                      |               MIG M. |\n",
            "|=========================================+======================+======================|\n",
            "|   0  Tesla T4                       Off | 00000000:00:04.0 Off |                    0 |\n",
            "| N/A   34C    P8               9W /  70W |      0MiB / 15360MiB |      0%      Default |\n",
            "|                                         |                      |                  N/A |\n",
            "+-----------------------------------------+----------------------+----------------------+\n",
            "                                                                                         \n",
            "+---------------------------------------------------------------------------------------+\n",
            "| Processes:                                                                            |\n",
            "|  GPU   GI   CI        PID   Type   Process name                            GPU Memory |\n",
            "|        ID   ID                                                             Usage      |\n",
            "|=======================================================================================|\n",
            "|  No running processes found                                                           |\n",
            "+---------------------------------------------------------------------------------------+\n"
          ]
        }
      ]
    },
    {
      "cell_type": "code",
      "source": [
        "# Import torch\n",
        "import torch\n",
        "\n",
        "# Exercises require PyTorch > 1.10.0\n",
        "print(torch.__version__)\n",
        "\n",
        "# TODO: Setup device agnostic code\n"
      ],
      "metadata": {
        "colab": {
          "base_uri": "https://localhost:8080/"
        },
        "id": "DNwZLMbCzJLk",
        "outputId": "3fa9f89c-11c3-4616-fc27-eac4c90c17b4"
      },
      "execution_count": 2,
      "outputs": [
        {
          "output_type": "stream",
          "name": "stdout",
          "text": [
            "2.2.1+cu121\n"
          ]
        }
      ]
    },
    {
      "cell_type": "markdown",
      "source": [
        "## 1. What are 3 areas in industry where computer vision is currently being used?"
      ],
      "metadata": {
        "id": "FSFX7tc1w-en"
      }
    },
    {
      "cell_type": "markdown",
      "source": [
        "1. Autonomous robots.\n",
        "2. Security, facial recognition.\n",
        "3. Factories."
      ],
      "metadata": {
        "id": "VyWRkvWGbCXj"
      }
    },
    {
      "cell_type": "markdown",
      "source": [
        "## 2. Search \"what is overfitting in machine learning\" and write down a sentence about what you find."
      ],
      "metadata": {
        "id": "oBK-WI6YxDYa"
      }
    },
    {
      "cell_type": "markdown",
      "source": [
        "Overfitting is when a model learns the learning patterns too well and fails to generalize, hence it struggles with test and foreign data. A sign of overfitting can be a higher accuracy in the training set and lower on the test set."
      ],
      "metadata": {
        "id": "d1rxD6GObCqh"
      }
    },
    {
      "cell_type": "markdown",
      "source": [
        "## 3. Search \"ways to prevent overfitting in machine learning\", write down 3 of the things you find and a sentence about each.\n",
        "> **Note:** there are lots of these, so don't worry too much about all of them, just pick 3 and start with those."
      ],
      "metadata": {
        "id": "XeYFEqw8xK26"
      }
    },
    {
      "cell_type": "markdown",
      "source": [
        "1. Diversify training data through having a larger dataset.\n",
        "2. Regularization.\n",
        "3. Data augmentation."
      ],
      "metadata": {
        "id": "ocvOdWKcbEKr"
      }
    },
    {
      "cell_type": "markdown",
      "source": [
        "## 4. Spend 20-minutes reading and clicking through the [CNN Explainer website](https://poloclub.github.io/cnn-explainer/).\n",
        "\n",
        "* Upload your own example image using the \"upload\" button on the website and see what happens in each layer of a CNN as your image passes through it."
      ],
      "metadata": {
        "id": "DKdEEFEqxM-8"
      }
    },
    {
      "cell_type": "code",
      "source": [],
      "metadata": {
        "id": "TqZaJIRMbFtS"
      },
      "execution_count": null,
      "outputs": []
    },
    {
      "cell_type": "markdown",
      "source": [
        "## 5. Load the [`torchvision.datasets.MNIST()`](https://pytorch.org/vision/stable/generated/torchvision.datasets.MNIST.html#torchvision.datasets.MNIST) train and test datasets."
      ],
      "metadata": {
        "id": "lvf-3pODxXYI"
      }
    },
    {
      "cell_type": "code",
      "source": [
        "import torchvision\n",
        "from torchvision import datasets\n",
        "train_data = datasets.MNIST(root=\"data\",\n",
        "                                   train=True,\n",
        "                                   download=True,\n",
        "                                   transform=torchvision.transforms.ToTensor(),\n",
        "                                   target_transform=None)\n",
        "\n",
        "test_data = datasets.MNIST(root=\"data\",\n",
        "                                  train=False,\n",
        "                                  download=True,\n",
        "                                  transform=torchvision.transforms.ToTensor(),\n",
        "                                  target_transform=None)\n",
        "class_names = train_data.classes"
      ],
      "metadata": {
        "id": "SHjeuN81bHza"
      },
      "execution_count": null,
      "outputs": []
    },
    {
      "cell_type": "markdown",
      "source": [
        "## 6. Visualize at least 5 different samples of the MNIST training dataset."
      ],
      "metadata": {
        "id": "qxZW-uAbxe_F"
      }
    },
    {
      "cell_type": "code",
      "source": [
        "import matplotlib.pyplot as plt\n",
        "\n",
        "SEED=42; W = 3; H = 3\n",
        "torch.manual_seed(SEED)\n",
        "\n",
        "fig = plt.figure(figsize=(9,9))\n",
        "for i in range(1, W*H+1):\n",
        "  rand_i = torch.randint(0, len(train_data), size=[1]).item()\n",
        "  img, lbl = train_data[rand_i]\n",
        "  fig.add_subplot(W, H, i)\n",
        "  plt.imshow(torch.squeeze(img), cmap=\"gray\")\n",
        "  plt.axis(False)\n",
        "  plt.title(class_names[lbl])"
      ],
      "metadata": {
        "id": "QVFsYi1PbItE",
        "colab": {
          "base_uri": "https://localhost:8080/",
          "height": 752
        },
        "outputId": "01ac8eb3-f662-488b-d160-3fd3f1b5ccf7"
      },
      "execution_count": 33,
      "outputs": [
        {
          "output_type": "display_data",
          "data": {
            "text/plain": [
              "<Figure size 900x900 with 9 Axes>"
            ],
            "image/png": "[encoded data removed]"
          },
          "metadata": {}
        }
      ]
    },
    {
      "cell_type": "markdown",
      "source": [
        "## 7. Turn the MNIST train and test datasets into dataloaders using `torch.utils.data.DataLoader`, set the `batch_size=32`."
      ],
      "metadata": {
        "id": "JAPDzW0wxhi3"
      }
    },
    {
      "cell_type": "code",
      "source": [
        "from torch.utils.data import DataLoader\n",
        "BATCH = 32\n",
        "train_dataloader = DataLoader(dataset=train_data,\n",
        "                              batch_size=BATCH,\n",
        "                              shuffle=True)\n",
        "test_dataloader = DataLoader(dataset=test_data,\n",
        "                             batch_size=BATCH,\n",
        "                             shuffle=True)"
      ],
      "metadata": {
        "id": "ALA6MPcFbJXQ"
      },
      "execution_count": 34,
      "outputs": []
    },
    {
      "cell_type": "markdown",
      "source": [
        "## 8. Recreate `model_2` used in notebook 03 (the same model from the [CNN Explainer website](https://poloclub.github.io/cnn-explainer/), also known as TinyVGG) capable of fitting on the MNIST dataset."
      ],
      "metadata": {
        "id": "bCCVfXk5xjYS"
      }
    },
    {
      "cell_type": "code",
      "source": [
        "from torch import nn\n",
        "class MNISTModelV2(nn.Module):\n",
        "  \"\"\"\n",
        "  TinyVGG architecture. Model from CNN explainer.\n",
        "  \"\"\"\n",
        "  def __init__(self,\n",
        "               input_shape:int,\n",
        "               hidden_units: int,\n",
        "               output_shape: int):\n",
        "    super().__init__()\n",
        "    self.conv_block_1 = nn.Sequential(\n",
        "        nn.Conv2d(in_channels= input_shape,\n",
        "                  out_channels= hidden_units,\n",
        "                  kernel_size= 3,\n",
        "                  stride= 1,\n",
        "                  padding= 1),\n",
        "        nn.ReLU(),\n",
        "        nn.Conv2d(in_channels= hidden_units,\n",
        "                  out_channels= hidden_units,\n",
        "                  kernel_size= 3,\n",
        "                  stride= 1,\n",
        "                  padding= 1),\n",
        "        nn.ReLU(),\n",
        "        nn.MaxPool2d(kernel_size=2)\n",
        "    )\n",
        "\n",
        "    self.conv_block_2 = nn.Sequential(\n",
        "        nn.Conv2d(in_channels= hidden_units,\n",
        "                  out_channels= hidden_units,\n",
        "                  kernel_size= 3,\n",
        "                  stride= 1,\n",
        "                  padding= 1),\n",
        "        nn.ReLU(),\n",
        "        nn.Conv2d(in_channels= hidden_units,\n",
        "                  out_channels= hidden_units,\n",
        "                  kernel_size= 3,\n",
        "                  stride= 1,\n",
        "                  padding= 1),\n",
        "        nn.ReLU(),\n",
        "        nn.MaxPool2d(kernel_size=2)\n",
        "    )\n",
        "\n",
        "    self.classifier = nn.Sequential(\n",
        "        nn.Flatten(),\n",
        "        nn.Linear(in_features= hidden_units * 7 * 7,\n",
        "                  out_features= output_shape)\n",
        "    )\n",
        "\n",
        "  def forward(self, x: torch.Tensor) -> torch.Tensor:\n",
        "    x = self.conv_block_1(x)\n",
        "    x = self.conv_block_2(x)\n",
        "    x = self.classifier(x)\n",
        "    return x"
      ],
      "metadata": {
        "id": "5IKNF22XbKYS"
      },
      "execution_count": 35,
      "outputs": []
    },
    {
      "cell_type": "markdown",
      "source": [
        "## 9. Train the model you built in exercise 8. for 5 epochs on CPU and GPU and see how long it takes on each."
      ],
      "metadata": {
        "id": "sf_3zUr7xlhy"
      }
    },
    {
      "cell_type": "code",
      "source": [
        "try:\n",
        "  from torchmetrics import Accuracy\n",
        "except:\n",
        "  !pip install torchmetrics\n",
        "  from torchmetrics import Accuracy"
      ],
      "metadata": {
        "id": "ErC58POnx1Px"
      },
      "execution_count": 36,
      "outputs": []
    },
    {
      "cell_type": "code",
      "source": [
        "def train_step(model: torch.nn.Module,\n",
        "               data_loader: torch.utils.data.DataLoader,\n",
        "               loss_fn: torch.nn.Module,\n",
        "               optimizer: torch.optim.Optimizer,\n",
        "               accuracy_fn,\n",
        "               device: torch.device):\n",
        "  \"\"\"Trains model with the dataset located on data_loader.\"\"\"\n",
        "  # Training loop\n",
        "  train_loss, train_acc = 0, 0\n",
        "  model.train()\n",
        "  for batch, (X, y) in enumerate(data_loader):\n",
        "    X, y = X.to(device), y.to(device)\n",
        "    y_pred = model(X)\n",
        "\n",
        "    loss = loss_fn(y_pred, y)\n",
        "    train_loss += loss\n",
        "    train_acc += accuracy_fn(y_pred.argmax(dim=1), y)\n",
        "    optimizer.zero_grad()\n",
        "    loss.backward()\n",
        "    optimizer.step()\n",
        "\n",
        "  # Calculate average loss and accuracy per epoch\n",
        "  train_loss /= len(data_loader)\n",
        "  train_acc /= len(data_loader)\n",
        "\n",
        "  return train_loss, train_acc\n",
        "\n",
        "def test_step(model: torch.nn.Module,\n",
        "              data_loader: torch.utils.data.DataLoader,\n",
        "              loss_fn: torch.nn.Module,\n",
        "              accuracy_fn,\n",
        "              device: torch.device):\n",
        "  \"\"\"Tests model with the dataset located on data_loader.\"\"\"\n",
        "  # Testing loop\n",
        "  test_loss, test_acc = 0, 0\n",
        "  model.eval()\n",
        "  with torch.inference_mode():\n",
        "    for X, y in data_loader:\n",
        "      X, y = X.to(device), y.to(device)\n",
        "      test_pred = model(X)\n",
        "\n",
        "      test_loss += loss_fn(test_pred, y)\n",
        "      test_acc += accuracy_fn(test_pred.argmax(dim=1), y)\n",
        "\n",
        "    test_loss /= len(data_loader)\n",
        "    test_acc /= len(data_loader)\n",
        "\n",
        "  return test_loss, test_acc"
      ],
      "metadata": {
        "id": "OiClbR400cN0"
      },
      "execution_count": 37,
      "outputs": []
    },
    {
      "cell_type": "code",
      "source": [
        "EPOCHS = 5; LR = 1e-2\n",
        "\n",
        "device = \"cpu\"\n",
        "torch.manual_seed(SEED)\n",
        "model_2_cpu = MNISTModelV2(input_shape=1,\n",
        "                                  hidden_units=10,\n",
        "                                  output_shape=len(class_names)).to(device)\n",
        "loss_fn = nn.CrossEntropyLoss()\n",
        "optimizer = torch.optim.Adam(params=model_2_cpu.parameters(),\n",
        "                             lr=LR)\n",
        "accuracy_fn = Accuracy(task=\"multiclass\",\n",
        "                       num_classes=len(class_names)).to(device)\n",
        "\n",
        "for epoch in range(0, EPOCHS):\n",
        "  train_loss, train_acc = train_step(model=model_2_cpu,\n",
        "                                     data_loader=train_dataloader,\n",
        "                                     loss_fn=loss_fn,\n",
        "                                     optimizer=optimizer,\n",
        "                                     accuracy_fn=accuracy_fn,\n",
        "                                     device=device)\n",
        "  test_loss, test_acc = test_step(model=model_2_cpu,\n",
        "                                  data_loader=test_dataloader,\n",
        "                                  loss_fn=loss_fn,\n",
        "                                  accuracy_fn=accuracy_fn,\n",
        "                                  device=device)"
      ],
      "metadata": {
        "id": "jSo6vVWFbNLD"
      },
      "execution_count": 38,
      "outputs": []
    },
    {
      "cell_type": "code",
      "source": [
        "device=\"cuda\"\n",
        "torch.manual_seed(SEED)\n",
        "model_2_gpu = MNISTModelV2(input_shape=1,\n",
        "                                  hidden_units=10,\n",
        "                                  output_shape=len(class_names)).to(device)\n",
        "loss_fn = nn.CrossEntropyLoss()\n",
        "optimizer = torch.optim.Adam(params=model_2_gpu.parameters(),\n",
        "                             lr=LR)\n",
        "accuracy_fn = Accuracy(task=\"multiclass\",\n",
        "                       num_classes=len(class_names)).to(device)\n",
        "\n",
        "for epoch in range(0, EPOCHS):\n",
        "  train_loss, train_acc = train_step(model=model_2_gpu,\n",
        "                                     data_loader=train_dataloader,\n",
        "                                     loss_fn=loss_fn,\n",
        "                                     optimizer=optimizer,\n",
        "                                     accuracy_fn=accuracy_fn,\n",
        "                                     device=device)\n",
        "  test_loss, test_acc = test_step(model=model_2_gpu,\n",
        "                                  data_loader=test_dataloader,\n",
        "                                  loss_fn=loss_fn,\n",
        "                                  accuracy_fn=accuracy_fn,\n",
        "                                  device=device)"
      ],
      "metadata": {
        "id": "cEswvpxy1MC7"
      },
      "execution_count": 39,
      "outputs": []
    },
    {
      "cell_type": "markdown",
      "source": [
        "## 10. Make predictions using your trained model and visualize at least 5 of them comparing the prediciton to the target label."
      ],
      "metadata": {
        "id": "w1CsHhPpxp1w"
      }
    },
    {
      "cell_type": "code",
      "source": [
        "def make_predictions(model: torch.nn.Module,\n",
        "                     data: list,\n",
        "                     device: torch.device):\n",
        "  pred_probs = []\n",
        "  model.to(device)\n",
        "  model.eval()\n",
        "  with torch.inference_mode():\n",
        "    for sample in data:\n",
        "      # Prepare the sample\n",
        "      sample = torch.unsqueeze(sample, dim=0).to(device)\n",
        "\n",
        "      # Forward pass\n",
        "      pred_logit = model(sample)\n",
        "      pred_prob = torch.softmax(pred_logit.squeeze(), dim=0)\n",
        "\n",
        "      # Pass data to cpu\n",
        "      pred_probs.append(pred_prob.to(\"cpu\"))\n",
        "\n",
        "  return torch.stack(pred_probs)"
      ],
      "metadata": {
        "id": "_YGgZvSobNxu"
      },
      "execution_count": 40,
      "outputs": []
    },
    {
      "cell_type": "code",
      "source": [
        "import random\n",
        "\n",
        "W = 3; H = 3\n",
        "random.seed(SEED)\n",
        "test_samples = []\n",
        "test_labels = []\n",
        "\n",
        "# Get random samples from test dataset\n",
        "for sample, label in random.sample(list(test_data), k=W*H):\n",
        "  test_samples.append(sample)\n",
        "  test_labels.append(label)\n",
        "\n",
        "# Make predictions\n",
        "pred_probs = make_predictions(model=model_2_gpu,\n",
        "                              data=test_samples,\n",
        "                              device=device)\n",
        "pred_classes = pred_probs.argmax(dim=1)\n",
        "\n",
        "plt.figure(figsize=(10, 10))\n",
        "for i, sample in enumerate(test_samples):\n",
        "  plt.subplot(H, W, i+1)\n",
        "  plt.imshow(sample.squeeze(), cmap=\"gray\")\n",
        "  plt.axis(False)\n",
        "  pred_lbl = class_names[pred_classes[i]]\n",
        "  truth_lbl = class_names[test_labels[i]]\n",
        "  m = f\"Pred: {pred_lbl} | Truth: {truth_lbl}\"\n",
        "  if pred_lbl == truth_lbl:\n",
        "    plt.title(m, c=\"g\")\n",
        "  else:\n",
        "    plt.title(m, c=\"r\")"
      ],
      "metadata": {
        "colab": {
          "base_uri": "https://localhost:8080/",
          "height": 754
        },
        "id": "MpG9KUEV2np_",
        "outputId": "3b490163-8dd2-4dcd-e603-2ba1aa334bdb"
      },
      "execution_count": 41,
      "outputs": [
        {
          "output_type": "display_data",
          "data": {
            "text/plain": [
              "<Figure size 1000x1000 with 9 Axes>"
            ],
            "image/png": "[encoded data removed]"
          },
          "metadata": {}
        }
      ]
    },
    {
      "cell_type": "markdown",
      "source": [
        "## 11. Plot a confusion matrix comparing your model's predictions to the truth labels."
      ],
      "metadata": {
        "id": "qQwzqlBWxrpG"
      }
    },
    {
      "cell_type": "code",
      "source": [
        "import mlxtend\n",
        "\n",
        "from tqdm.auto import tqdm\n",
        "from torchmetrics import ConfusionMatrix\n",
        "from mlxtend.plotting import plot_confusion_matrix\n",
        "\n",
        "# Make predictions and save them in a tensor\n",
        "y_preds = []\n",
        "model_2_gpu.eval()\n",
        "with torch.inference_mode():\n",
        "  for X, y in tqdm(test_dataloader, desc=\"Making predictions ...\"):\n",
        "    X, y = X.to(device), y.to(device)\n",
        "    y_logit = model_2_gpu(X)\n",
        "    y_pred = torch.softmax(y_logit.squeeze(), dim=0).argmax(dim=1)\n",
        "    y_preds.append(y_pred.cpu())\n",
        "\n",
        "y_pred_tensor = torch.cat(y_preds)\n",
        "\n",
        "confmat = ConfusionMatrix(num_classes=len(class_names), task=\"multiclass\")\n",
        "confmat_tensor = confmat(preds=y_pred_tensor,\n",
        "                         target=test_data.targets)\n",
        "fig, ax = plot_confusion_matrix(conf_mat= confmat_tensor.numpy(),\n",
        "                                class_names= class_names,\n",
        "                                figsize=(10, 7))"
      ],
      "metadata": {
        "id": "vSrXiT_AbQ6e",
        "colab": {
          "base_uri": "https://localhost:8080/",
          "height": 692,
          "referenced_widgets": [
            "4772f7dbdd064b50bcf7e47571f87e29",
            "5763fafde0c34de2acaa6cb872ec5841",
            "16e44ad60d5641da9fc91fedead42afb",
            "158f61aac5a2452c8708ec5b29cca085",
            "2049cba5c8464e0691e4b435029831d0",
            "a2441b3041e648c18a605655e2d36c65",
            "3790b67fe9aa4787abf2aa3f36e543bd",
            "c4ce69bc51a5478794201d2c237bb4b3",
            "8faf0de6368b4ca183d4b27d77eb28e4",
            "d190b89024c94000899aa47ad01b167a",
            "8e335ced5d0f4f28a3d5aaf12a86dc86"
          ]
        },
        "outputId": "6a3e05b1-2636-40bc-a362-b8810d154b39"
      },
      "execution_count": 42,
      "outputs": [
        {
          "output_type": "display_data",
          "data": {
            "text/plain": [
              "Making predictions ...:   0%|          | 0/313 [00:00<?, ?it/s]"
            ],
            "application/vnd.jupyter.widget-view+json": {
              "version_major": 2,
              "version_minor": 0,
              "model_id": "4772f7dbdd064b50bcf7e47571f87e29"
            }
          },
          "metadata": {}
        },
        {
          "output_type": "display_data",
          "data": {
            "text/plain": [
              "<Figure size 1000x700 with 1 Axes>"
            ],
            "image/png": "[encoded data removed]"
          },
          "metadata": {}
        }
      ]
    },
    {
      "cell_type": "markdown",
      "source": [
        "## 12. Create a random tensor of shape `[1, 3, 64, 64]` and pass it through a `nn.Conv2d()` layer with various hyperparameter settings (these can be any settings you choose), what do you notice if the `kernel_size` parameter goes up and down?"
      ],
      "metadata": {
        "id": "lj6bDhoWxt2y"
      }
    },
    {
      "cell_type": "code",
      "source": [
        "rand_tensor = torch.rand([1, 3, 64, 64])\n",
        "\n",
        "conv2d = nn.Conv2d(in_channels=3,\n",
        "                   out_channels=10,\n",
        "                   kernel_size=2)\n",
        "conv2d(rand_tensor)"
      ],
      "metadata": {
        "id": "leCTsqtSbR5P",
        "colab": {
          "base_uri": "https://localhost:8080/"
        },
        "outputId": "c6beb91a-7428-4eb2-df41-d747a4ad62ad"
      },
      "execution_count": 44,
      "outputs": [
        {
          "output_type": "execute_result",
          "data": {
            "text/plain": [
              "tensor([[[[ 7.8760e-02,  7.4272e-01,  4.2356e-01,  ...,  1.5065e-01,\n",
              "            1.6461e-01,  3.8097e-01],\n",
              "          [ 3.9301e-01,  8.9071e-02,  3.6358e-02,  ...,  2.6936e-01,\n",
              "            9.6290e-02,  4.2744e-01],\n",
              "          [-1.7945e-01,  2.8466e-01,  3.4659e-01,  ...,  2.8925e-01,\n",
              "            5.4418e-01,  3.0495e-01],\n",
              "          ...,\n",
              "          [ 1.7013e-01,  1.5508e-01,  3.0603e-01,  ...,  2.4316e-01,\n",
              "            1.5831e-01,  3.9577e-01],\n",
              "          [ 7.2507e-01,  3.5084e-01,  2.6328e-01,  ...,  6.0521e-01,\n",
              "            4.1127e-01,  3.0796e-01],\n",
              "          [ 2.2910e-01,  2.7342e-01,  2.2231e-01,  ...,  2.2873e-01,\n",
              "           -3.3992e-02,  1.4898e-01]],\n",
              "\n",
              "         [[-6.0284e-01, -4.1378e-01, -6.5110e-01,  ..., -3.5632e-01,\n",
              "           -6.5020e-01, -5.8941e-01],\n",
              "          [-2.8341e-01, -5.5582e-01, -5.6745e-01,  ..., -5.2044e-01,\n",
              "           -4.5677e-01, -3.2581e-01],\n",
              "          [-6.2133e-01, -5.0083e-01, -8.3914e-01,  ..., -4.7899e-01,\n",
              "           -5.2996e-01, -4.0182e-01],\n",
              "          ...,\n",
              "          [-3.8014e-01, -5.1563e-01, -6.2446e-01,  ..., -3.4788e-01,\n",
              "           -3.9405e-01, -3.7888e-01],\n",
              "          [-5.0244e-01, -6.0773e-01, -4.9293e-01,  ..., -4.2722e-01,\n",
              "           -3.4843e-01, -5.7354e-01],\n",
              "          [-6.9736e-01, -3.5825e-01, -4.3745e-01,  ..., -5.0037e-01,\n",
              "           -3.9122e-01, -6.2066e-01]],\n",
              "\n",
              "         [[-7.9137e-02, -3.1024e-01, -6.8356e-01,  ..., -2.3467e-01,\n",
              "           -2.8464e-01, -6.3239e-01],\n",
              "          [-3.3476e-01, -2.7137e-01, -2.1158e-01,  ..., -1.2275e-01,\n",
              "           -6.0792e-02, -2.6710e-01],\n",
              "          [-7.9070e-02, -5.4957e-02, -4.6248e-01,  ..., -1.3671e-01,\n",
              "           -2.6083e-01, -2.9286e-01],\n",
              "          ...,\n",
              "          [ 1.1355e-01,  1.9773e-01, -1.4160e-01,  ..., -1.9922e-01,\n",
              "            2.6179e-02, -1.1226e-01],\n",
              "          [-5.5556e-01,  7.9137e-02, -2.1635e-01,  ..., -4.0566e-01,\n",
              "           -1.9018e-01, -1.7133e-04],\n",
              "          [-3.7637e-01,  4.7172e-02, -2.1446e-01,  ..., -2.6939e-01,\n",
              "           -1.5676e-01, -2.1344e-01]],\n",
              "\n",
              "         ...,\n",
              "\n",
              "         [[ 2.5356e-01,  2.9564e-01,  1.3466e-01,  ...,  2.2981e-01,\n",
              "            3.7149e-01,  3.3351e-01],\n",
              "          [ 4.6213e-01,  2.0327e-01,  1.7158e-01,  ...,  4.3391e-02,\n",
              "            2.2988e-01,  3.0824e-01],\n",
              "          [ 2.1061e-02,  2.2555e-01,  2.9937e-01,  ...,  3.1955e-01,\n",
              "            1.9400e-01,  4.0746e-01],\n",
              "          ...,\n",
              "          [-8.3150e-02,  4.2667e-02,  3.8591e-01,  ...,  2.4368e-01,\n",
              "           -5.0206e-02,  2.5437e-01],\n",
              "          [ 3.8992e-01, -1.6563e-01,  2.6668e-01,  ...,  3.0797e-01,\n",
              "            6.5978e-02,  1.4376e-01],\n",
              "          [ 2.6909e-01,  6.4585e-02,  2.7202e-01,  ...,  6.1145e-02,\n",
              "            3.4613e-01,  3.7735e-01]],\n",
              "\n",
              "         [[-5.3930e-01, -1.6292e-01, -4.6532e-01,  ..., -3.7609e-01,\n",
              "           -2.4630e-01, -3.7718e-01],\n",
              "          [-2.8300e-02, -2.5995e-01, -3.3328e-01,  ..., -4.8384e-01,\n",
              "           -4.3555e-01, -2.0485e-01],\n",
              "          [-3.9290e-01, -1.5582e-01, -4.4640e-01,  ..., -3.0608e-01,\n",
              "           -2.0660e-01, -4.8999e-01],\n",
              "          ...,\n",
              "          [-4.2137e-01, -2.0353e-01, -5.0779e-01,  ..., -6.4914e-01,\n",
              "           -1.8385e-01, -3.1204e-01],\n",
              "          [-3.7635e-01, -2.6563e-01, -5.6731e-01,  ..., -3.8624e-01,\n",
              "           -2.1857e-01,  4.4070e-02],\n",
              "          [-2.3727e-01, -3.7169e-01, -4.6670e-01,  ..., -3.8286e-01,\n",
              "           -3.9000e-01, -2.6076e-01]],\n",
              "\n",
              "         [[-3.5502e-02, -1.0641e-02, -6.4372e-02,  ..., -6.9208e-02,\n",
              "           -4.0546e-02,  6.4217e-02],\n",
              "          [ 2.4448e-01,  2.8956e-01, -1.9803e-01,  ..., -1.2216e-01,\n",
              "            2.7967e-02,  1.0151e-01],\n",
              "          [-7.9444e-02, -1.5374e-01, -1.5329e-01,  ...,  1.5994e-01,\n",
              "            9.4512e-03,  2.1084e-01],\n",
              "          ...,\n",
              "          [-1.8255e-01,  6.7046e-02,  5.1817e-02,  ...,  6.3046e-02,\n",
              "           -2.9928e-02,  6.3108e-02],\n",
              "          [ 1.9413e-02, -2.1735e-02,  8.2136e-03,  ..., -3.7971e-02,\n",
              "           -8.4681e-02,  1.3126e-01],\n",
              "          [ 2.1303e-01, -5.4929e-04,  5.3879e-02,  ...,  1.0650e-01,\n",
              "            8.4662e-02, -1.3400e-02]]]], grad_fn=<ConvolutionBackward0>)"
            ]
          },
          "metadata": {},
          "execution_count": 44
        }
      ]
    },
    {
      "cell_type": "markdown",
      "source": [
        "## 13. Use a model similar to the trained `model_2` from notebook 03 to make predictions on the test [`torchvision.datasets.FashionMNIST`](https://pytorch.org/vision/main/generated/torchvision.datasets.FashionMNIST.html) dataset.\n",
        "* Then plot some predictions where the model was wrong alongside what the label of the image should've been.\n",
        "* After visualing these predictions do you think it's more of a modelling error or a data error?\n",
        "* As in, could the model do better or are the labels of the data too close to each other (e.g. a \"Shirt\" label is too close to \"T-shirt/top\")?"
      ],
      "metadata": {
        "id": "VHS20cNTxwSi"
      }
    },
    {
      "cell_type": "code",
      "source": [],
      "metadata": {
        "id": "78a8LjtdbSZj"
      },
      "execution_count": null,
      "outputs": []
    }
  ]
}