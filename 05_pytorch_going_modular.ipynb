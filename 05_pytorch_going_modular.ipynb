{
  "nbformat": 4,
  "nbformat_minor": 0,
  "metadata": {
    "colab": {
      "provenance": [],
      "collapsed_sections": [
        "bCGSyu4PnJiI",
        "AxCG_-T8ucyC",
        "GlHR5ePwowx5",
        "pk7QpbkotfTw",
        "Wu-0BEGIvFFJ",
        "oOY94FenwZ_G",
        "kEiAKBLcx6PZ"
      ],
      "gpuType": "T4",
      "authorship_tag": "ABX9TyPgXudg7G6X3M0Ax6IQdDYs",
      "include_colab_link": true
    },
    "kernelspec": {
      "name": "python3",
      "display_name": "Python 3"
    },
    "language_info": {
      "name": "python"
    },
    "accelerator": "GPU"
  },
  "cells": [
    {
      "cell_type": "markdown",
      "metadata": {
        "id": "view-in-github",
        "colab_type": "text"
      },
      "source": [
        "<a href=\"https://colab.research.google.com/github/santiagorg2401/pytorch_course_exercises/blob/main/05_pytorch_going_modular.ipynb\" target=\"_parent\"><img src=\"https://colab.research.google.com/assets/colab-badge.svg\" alt=\"Open In Colab\"/></a>"
      ]
    },
    {
      "cell_type": "markdown",
      "source": [
        "# PyTorch Going Modular\n",
        "Notebook -> Python scripts"
      ],
      "metadata": {
        "id": "Suf-Bv_fpVfW"
      }
    },
    {
      "cell_type": "code",
      "source": [
        "!mkdir going_modular"
      ],
      "metadata": {
        "id": "VnDyMqCZiNhF",
        "colab": {
          "base_uri": "https://localhost:8080/"
        },
        "outputId": "ac833e87-0f68-471e-9243-971ece27038e"
      },
      "execution_count": 9,
      "outputs": [
        {
          "output_type": "stream",
          "name": "stdout",
          "text": [
            "mkdir: cannot create directory ‘going_modular’: File exists\n"
          ]
        }
      ]
    },
    {
      "cell_type": "markdown",
      "source": [
        "## Get data"
      ],
      "metadata": {
        "id": "bCGSyu4PnJiI"
      }
    },
    {
      "cell_type": "code",
      "source": [
        "%%writefile get_data.py\n",
        "import os\n",
        "import requests\n",
        "import zipfile\n",
        "from pathlib import Path\n",
        "\n",
        "# Setup path to data folder\n",
        "data_path = Path(\"data/\")\n",
        "image_path = data_path / \"pizza_steak_sushi\"\n",
        "\n",
        "# If the image folder doesn't exist, download it and prepare it...\n",
        "if image_path.is_dir():\n",
        "    print(f\"{image_path} directory exists.\")\n",
        "else:\n",
        "    print(f\"Did not find {image_path} directory, creating one...\")\n",
        "    image_path.mkdir(parents=True, exist_ok=True)\n",
        "\n",
        "# Download pizza, steak, sushi data\n",
        "with open(data_path / \"pizza_steak_sushi.zip\", \"wb\") as f:\n",
        "    request = requests.get(\"https://github.com/mrdbourke/pytorch-deep-learning/raw/main/data/pizza_steak_sushi.zip\")\n",
        "    print(\"Downloading pizza, steak, sushi data...\")\n",
        "    f.write(request.content)\n",
        "\n",
        "# Unzip pizza, steak, sushi data\n",
        "with zipfile.ZipFile(data_path / \"pizza_steak_sushi.zip\", \"r\") as zip_ref:\n",
        "    print(\"Unzipping pizza, steak, sushi data...\")\n",
        "    zip_ref.extractall(image_path)\n",
        "\n",
        "# Remove zip file\n",
        "os.remove(data_path / \"pizza_steak_sushi.zip\")"
      ],
      "metadata": {
        "colab": {
          "base_uri": "https://localhost:8080/"
        },
        "id": "2-fkX3rYnInl",
        "outputId": "f4601d87-1189-4e5b-a9bc-d0cebf259b10"
      },
      "execution_count": 10,
      "outputs": [
        {
          "output_type": "stream",
          "name": "stdout",
          "text": [
            "Overwriting get_data.py\n"
          ]
        }
      ]
    },
    {
      "cell_type": "code",
      "source": [
        "!python get_data.py"
      ],
      "metadata": {
        "colab": {
          "base_uri": "https://localhost:8080/"
        },
        "id": "oZ7z1OhvxbAK",
        "outputId": "2cc1d788-7c32-4dc9-d566-086e353b27fd"
      },
      "execution_count": 11,
      "outputs": [
        {
          "output_type": "stream",
          "name": "stdout",
          "text": [
            "data/pizza_steak_sushi directory exists.\n",
            "Downloading pizza, steak, sushi data...\n",
            "Unzipping pizza, steak, sushi data...\n"
          ]
        }
      ]
    },
    {
      "cell_type": "markdown",
      "source": [
        "## Create Datasets and DataLoaders"
      ],
      "metadata": {
        "id": "AxCG_-T8ucyC"
      }
    },
    {
      "cell_type": "code",
      "source": [
        "%%writefile going_modular/data_setup.py\n",
        "\"\"\"\n",
        "Handles functionality for handling PyTorch DataLoaders\n",
        "\"\"\"\n",
        "\n",
        "import os\n",
        "from torch.utils.data import DataLoader\n",
        "from torchvision import datasets, transforms\n",
        "\n",
        "NUM_WORKERS = os.cpu_count()\n",
        "\n",
        "def create_dataloaders(\n",
        "    train_dir: str,\n",
        "    test_dir: str,\n",
        "    transform: transforms.Compose,\n",
        "    batch_size: int,\n",
        "    num_workers: int=NUM_WORKERS\n",
        "):\n",
        "  \"\"\"\n",
        "  Creates Training and testing DataLoaders\n",
        "  Args:\n",
        "    train_dir: Path to training directory,\n",
        "    test_dir: Path to testing directory,\n",
        "    transform: torchvision transforms to perform on data,\n",
        "    batch_size: Batch size,\n",
        "    num_workers: Number of workers per dataloader\n",
        "\n",
        "  Returns:\n",
        "    (train_dataloader, test_dataloader, class_names)\n",
        "  \"\"\"\n",
        "  # use ImageFolder to create datasets\n",
        "  train_data = datasets.ImageFolder(train_dir, transform)\n",
        "  test_data = datasets.ImageFolder(test_dir, transform)\n",
        "\n",
        "  # Get class names\n",
        "  class_names = train_data.classes\n",
        "\n",
        "  # Turn datasets into DataLoaders\n",
        "  train_dataloader = DataLoader(train_data, batch_size, True,\n",
        "                                num_workers=num_workers, pin_memory=True)\n",
        "  test_dataloader = DataLoader(test_data, batch_size, False,\n",
        "                               num_workers=num_workers, pin_memory=True)\n",
        "\n",
        "  return train_dataloader, test_dataloader, class_names"
      ],
      "metadata": {
        "id": "6iQv7-9Avf8i",
        "colab": {
          "base_uri": "https://localhost:8080/"
        },
        "outputId": "04e13edc-2140-4a37-8c22-045492207805"
      },
      "execution_count": 12,
      "outputs": [
        {
          "output_type": "stream",
          "name": "stdout",
          "text": [
            "Overwriting going_modular/data_setup.py\n"
          ]
        }
      ]
    },
    {
      "cell_type": "code",
      "source": [
        "from pathlib import Path\n",
        "from torchvision import transforms\n",
        "from going_modular import data_setup\n",
        "\n",
        "BATCH_SIZE = 32\n",
        "\n",
        "data_transform = transforms.Compose([\n",
        "    transforms.Resize((64, 64)),\n",
        "    transforms.ToTensor(),\n",
        "])\n",
        "\n",
        "# Setup train and testing paths\n",
        "data_path = Path(\"data/\")\n",
        "image_path = data_path / \"pizza_steak_sushi\"\n",
        "train_dir = image_path / \"train\"\n",
        "test_dir = image_path / \"test\"\n",
        "\n",
        "train_dir, test_dir\n",
        "train_dataloader, test_dataloader, class_names = data_setup.create_dataloaders(train_dir,\n",
        "                                                                               test_dir,\n",
        "                                                                               data_transform,\n",
        "                                                                               BATCH_SIZE)"
      ],
      "metadata": {
        "id": "QH-bHIG_nPiU"
      },
      "execution_count": 13,
      "outputs": []
    },
    {
      "cell_type": "markdown",
      "source": [
        "## Create TinyVGG model"
      ],
      "metadata": {
        "id": "GlHR5ePwowx5"
      }
    },
    {
      "cell_type": "code",
      "source": [
        "%%writefile going_modular/model.py\n",
        "\"\"\"\n",
        "Contains PyTorch model code to instantiate a TinyVGG model.\n",
        "\"\"\"\n",
        "import torch\n",
        "from torch import nn\n",
        "\n",
        "class TinyVGG(nn.Module):\n",
        "    \"\"\"Creates the TinyVGG architecture.\n",
        "\n",
        "    Replicates the TinyVGG architecture from the CNN explainer website in PyTorch.\n",
        "    See the original architecture here: https://poloclub.github.io/cnn-explainer/\n",
        "\n",
        "    Args:\n",
        "    input_shape: An integer indicating number of input channels.\n",
        "    hidden_units: An integer indicating number of hidden units between layers.\n",
        "    output_shape: An integer indicating number of output units.\n",
        "    \"\"\"\n",
        "    def __init__(self, input_shape: int, hidden_units: int, output_shape: int) -> None:\n",
        "        super().__init__()\n",
        "        self.conv_block_1 = nn.Sequential(\n",
        "          nn.Conv2d(in_channels=input_shape,\n",
        "                    out_channels=hidden_units,\n",
        "                    kernel_size=3,\n",
        "                    stride=1,\n",
        "                    padding=0),\n",
        "          nn.ReLU(),\n",
        "          nn.Conv2d(in_channels=hidden_units,\n",
        "                    out_channels=hidden_units,\n",
        "                    kernel_size=3,\n",
        "                    stride=1,\n",
        "                    padding=0),\n",
        "          nn.ReLU(),\n",
        "          nn.MaxPool2d(kernel_size=2,\n",
        "                        stride=2)\n",
        "        )\n",
        "        self.conv_block_2 = nn.Sequential(\n",
        "          nn.Conv2d(hidden_units, hidden_units, kernel_size=3, padding=0),\n",
        "          nn.ReLU(),\n",
        "          nn.Conv2d(hidden_units, hidden_units, kernel_size=3, padding=0),\n",
        "          nn.ReLU(),\n",
        "          nn.MaxPool2d(2)\n",
        "        )\n",
        "        self.classifier = nn.Sequential(\n",
        "          nn.Flatten(),\n",
        "          # Where did this in_features shape come from?\n",
        "          # It's because each layer of our network compresses and changes the shape of our inputs data.\n",
        "          nn.Linear(in_features=hidden_units*13*13,\n",
        "                    out_features=output_shape)\n",
        "        )\n",
        "\n",
        "    def forward(self, x: torch.Tensor):\n",
        "        return self.classifier(self.conv_block_2(self.conv_block_1(x)))"
      ],
      "metadata": {
        "id": "xyqDlvCFozoQ",
        "colab": {
          "base_uri": "https://localhost:8080/"
        },
        "outputId": "fef3666b-6d16-4837-c6ac-eb92426009a7"
      },
      "execution_count": 14,
      "outputs": [
        {
          "output_type": "stream",
          "name": "stdout",
          "text": [
            "Writing going_modular/model.py\n"
          ]
        }
      ]
    },
    {
      "cell_type": "code",
      "source": [
        "import torch\n",
        "from going_modular import model\n",
        "\n",
        "device = \"cuda\" if torch.cuda.is_available() else \"cpu\"\n",
        "\n",
        "model_1 = model.TinyVGG(3, 10, len(class_names)).to(device)\n",
        "model_1"
      ],
      "metadata": {
        "colab": {
          "base_uri": "https://localhost:8080/"
        },
        "id": "pRyI9TUksqzZ",
        "outputId": "c8817fd7-e326-4727-99bc-7ed9e192415f"
      },
      "execution_count": 15,
      "outputs": [
        {
          "output_type": "execute_result",
          "data": {
            "text/plain": [
              "TinyVGG(\n",
              "  (conv_block_1): Sequential(\n",
              "    (0): Conv2d(3, 10, kernel_size=(3, 3), stride=(1, 1))\n",
              "    (1): ReLU()\n",
              "    (2): Conv2d(10, 10, kernel_size=(3, 3), stride=(1, 1))\n",
              "    (3): ReLU()\n",
              "    (4): MaxPool2d(kernel_size=2, stride=2, padding=0, dilation=1, ceil_mode=False)\n",
              "  )\n",
              "  (conv_block_2): Sequential(\n",
              "    (0): Conv2d(10, 10, kernel_size=(3, 3), stride=(1, 1))\n",
              "    (1): ReLU()\n",
              "    (2): Conv2d(10, 10, kernel_size=(3, 3), stride=(1, 1))\n",
              "    (3): ReLU()\n",
              "    (4): MaxPool2d(kernel_size=2, stride=2, padding=0, dilation=1, ceil_mode=False)\n",
              "  )\n",
              "  (classifier): Sequential(\n",
              "    (0): Flatten(start_dim=1, end_dim=-1)\n",
              "    (1): Linear(in_features=1690, out_features=3, bias=True)\n",
              "  )\n",
              ")"
            ]
          },
          "metadata": {},
          "execution_count": 15
        }
      ]
    },
    {
      "cell_type": "markdown",
      "source": [
        "## Engine"
      ],
      "metadata": {
        "id": "pk7QpbkotfTw"
      }
    },
    {
      "cell_type": "code",
      "source": [
        "%%writefile going_modular/engine.py\n",
        "import torch\n",
        "\n",
        "from torch import nn\n",
        "from tqdm.auto import tqdm\n",
        "from torch.utils.data import DataLoader\n",
        "from typing import Tuple, List, Dict\n",
        "from timeit import default_timer as timer\n",
        "\n",
        "def train_step(model: nn.Module,\n",
        "               dataloader: DataLoader,\n",
        "               loss_fn: nn.Module,\n",
        "               optimizer: torch.optim.Optimizer,\n",
        "               device):\n",
        "\n",
        "  model.train()\n",
        "  train_loss, train_acc = 0, 0\n",
        "\n",
        "  for batch, (X, y) in enumerate(dataloader):\n",
        "    X, y = X.to(device), y.to(device)\n",
        "    y_pred = model(X)\n",
        "    loss = loss_fn(y_pred, y)\n",
        "    train_loss += loss\n",
        "    optimizer.zero_grad()\n",
        "    loss.backward()\n",
        "    optimizer.step()\n",
        "\n",
        "    # Calculate accuracy\n",
        "    y_pred_class = torch.argmax(torch.softmax(y_pred, dim=1), dim=1)\n",
        "    train_acc += (y_pred_class==y).sum().item()/len(y_pred)\n",
        "\n",
        "  # Compute average loss and accuracy per batch\n",
        "  train_loss /= len(dataloader)\n",
        "  train_acc /= len(dataloader)\n",
        "\n",
        "  return train_loss, train_acc\n",
        "\n",
        "def test_step(model: nn.Module,\n",
        "              dataloader: DataLoader,\n",
        "              loss_fn: nn.Module,\n",
        "              device):\n",
        "  model.eval()\n",
        "  test_loss, test_acc = 0, 0\n",
        "  with torch.inference_mode():\n",
        "    for batch, (X, y) in enumerate(dataloader):\n",
        "      X, y = X.to(device), y.to(device)\n",
        "      y_pred = model(X)\n",
        "      loss = loss_fn(y_pred, y)\n",
        "      test_loss += loss\n",
        "      y_pred_class = torch.argmax(torch.softmax(y_pred, dim=1),dim=-1)\n",
        "      test_acc += (y_pred_class==y).sum().item()/len(y_pred)\n",
        "\n",
        "    test_loss /= len(dataloader)\n",
        "    test_acc /= len(dataloader)\n",
        "\n",
        "  return test_loss, test_acc\n",
        "\n",
        "def train(model: nn.Module,\n",
        "          epochs: int,\n",
        "          loss_fn: nn.Module,\n",
        "          optimizer: torch.optim.Optimizer,\n",
        "          train_dataloader: DataLoader,\n",
        "          test_dataloader: DataLoader,\n",
        "          device):\n",
        "\n",
        "  results = {\"train_loss\":[],\n",
        "             \"train_acc\":[],\n",
        "             \"test_loss\":[],\n",
        "             \"test_acc\":[],\n",
        "             \"train_time\":None}\n",
        "  t0 = timer()\n",
        "  for epoch in tqdm(range(epochs)):\n",
        "    train_loss, train_acc = train_step(model,\n",
        "                                       train_dataloader,\n",
        "                                       loss_fn,\n",
        "                                       optimizer,\n",
        "                                       device)\n",
        "    test_loss, test_acc = test_step(model,\n",
        "                                    test_dataloader,\n",
        "                                    loss_fn,\n",
        "                                    device)\n",
        "    # Update results per epoch\n",
        "    results[\"train_loss\"].append(train_loss.to(\"cpu\").detach().numpy())\n",
        "    results[\"train_acc\"].append(train_acc)\n",
        "    results[\"test_loss\"].append(test_loss.to(\"cpu\").detach().numpy())\n",
        "    results[\"test_acc\"].append(test_acc)\n",
        "\n",
        "    log = f\"Epoch: {epoch} | \" \\\n",
        "          f\"Train loss: {train_loss:.4f} | Train acc: {train_acc*100:.2f}% \" \\\n",
        "          f\"Test loss: {test_loss:.4f} | Test acc: {test_acc*100:.2f}%\"\n",
        "    print(log)\n",
        "\n",
        "  t1 = timer()\n",
        "  results[\"train_time\"] = t1 - t0\n",
        "  print(f\"Training time: {t1 - t0:.3f} seconds\")\n",
        "\n",
        "  return results"
      ],
      "metadata": {
        "colab": {
          "base_uri": "https://localhost:8080/"
        },
        "id": "DVlsAX02tg-N",
        "outputId": "1d2a3778-d162-418d-f453-5b5ea8d267e1"
      },
      "execution_count": 16,
      "outputs": [
        {
          "output_type": "stream",
          "name": "stdout",
          "text": [
            "Writing going_modular/engine.py\n"
          ]
        }
      ]
    },
    {
      "cell_type": "markdown",
      "source": [
        "## Utilities"
      ],
      "metadata": {
        "id": "Wu-0BEGIvFFJ"
      }
    },
    {
      "cell_type": "code",
      "source": [
        "%%writefile going_modular/utils.py\n",
        "import torch\n",
        "import matplotlib.pyplot as plt\n",
        "\n",
        "from pathlib import Path\n",
        "\n",
        "def plot_loss_curves(results):\n",
        "  epochs = range(len(results[\"train_loss\"]))\n",
        "  # Loss\n",
        "  plt.figure(figsize=(15,7))\n",
        "  plt.subplot(1, 2, 1)\n",
        "  plt.plot(epochs, results[\"train_loss\"], label=\"Train\")\n",
        "  plt.plot(epochs, results[\"test_loss\"], label=\"Test\")\n",
        "  plt.title(\"Loss\")\n",
        "  plt.xlabel(\"Epochs\")\n",
        "  plt.legend()\n",
        "\n",
        "  # Accuracy\n",
        "  plt.subplot(1, 2, 2)\n",
        "  plt.plot(epochs, results[\"train_acc\"], label=\"Train\")\n",
        "  plt.plot(epochs, results[\"test_acc\"], label=\"Test\")\n",
        "  plt.title(\"Accuracy\")\n",
        "  plt.xlabel(\"Epochs\")\n",
        "  plt.legend()\n",
        "\n",
        "def save_model(model: torch.nn.Module,\n",
        "               target_dir: str,\n",
        "               model_name: str):\n",
        "    \"\"\"Saves a PyTorch model to a target directory.\n",
        "\n",
        "    Args:\n",
        "    model: A target PyTorch model to save.\n",
        "    target_dir: A directory for saving the model to.\n",
        "    model_name: A filename for the saved model. Should include\n",
        "      either \".pth\" or \".pt\" as the file extension.\n",
        "\n",
        "    Example usage:\n",
        "    save_model(model=model_0,\n",
        "               target_dir=\"models\",\n",
        "               model_name=\"05_going_modular_tingvgg_model.pth\")\n",
        "    \"\"\"\n",
        "    # Create target directory\n",
        "    target_dir_path = Path(target_dir)\n",
        "    target_dir_path.mkdir(parents=True,\n",
        "                        exist_ok=True)\n",
        "\n",
        "    # Create model save path\n",
        "    assert model_name.endswith(\".pth\") or model_name.endswith(\".pt\"), \"model_name should end with '.pt' or '.pth'\"\n",
        "    model_save_path = target_dir_path / model_name\n",
        "\n",
        "    # Save the model state_dict()\n",
        "    print(f\"[INFO] Saving model to: {model_save_path}\")\n",
        "    torch.save(obj=model.state_dict(),\n",
        "             f=model_save_path)"
      ],
      "metadata": {
        "colab": {
          "base_uri": "https://localhost:8080/"
        },
        "id": "BKX0iszBvGIB",
        "outputId": "2c4c3883-6633-4f70-ab30-0d7ae6938124"
      },
      "execution_count": 17,
      "outputs": [
        {
          "output_type": "stream",
          "name": "stdout",
          "text": [
            "Writing going_modular/utils.py\n"
          ]
        }
      ]
    },
    {
      "cell_type": "markdown",
      "source": [
        "## Train"
      ],
      "metadata": {
        "id": "oOY94FenwZ_G"
      }
    },
    {
      "cell_type": "code",
      "source": [
        "%%writefile going_modular/train.py\n",
        "import os\n",
        "import torch\n",
        "import argparse\n",
        "from torchvision import transforms\n",
        "import data_setup, engine, model, utils\n",
        "\n",
        "# Set Hyperparameters\n",
        "parser = argparse.ArgumentParser(description=\"Train a TinyVGG model on PyTorch\")\n",
        "parser.add_argument(\"--num_epochs\", type=int, help=\"Number of epochs\")\n",
        "parser.add_argument(\"--batch_size\", type=int, help=\"Number of samples per batch\")\n",
        "parser.add_argument(\"--hidden_units\", type=int, help=\"TinyVGG hidden units\")\n",
        "parser.add_argument(\"--lr\", type=float, help=\"Learning rate\")\n",
        "parser.add_argument(\"--plot\", type=bool, help=\"Plot loss curves\")\n",
        "parser.add_argument(\"--model_name\", help=\"Model name, include .pt ot .pth\")\n",
        "args = parser.parse_args()\n",
        "\n",
        "NUM_EPOCHS = args.num_epochs\n",
        "BATCH_SIZE = args.batch_size\n",
        "HIDDEN_UNITS = args.hidden_units\n",
        "IMG_SIZE = (64, 64)\n",
        "LEARNING_RATE = args.lr\n",
        "PLOT = args.plot\n",
        "MODEL_NAME = args.model_name\n",
        "\n",
        "# Setup directories\n",
        "train_dir = \"data/pizza_steak_sushi/train\"\n",
        "test_dir = \"data/pizza_steak_sushi/test\"\n",
        "\n",
        "# Setup device agnostic code\n",
        "device = \"cuda\" if torch.cuda.is_available() else \"cpu\"\n",
        "\n",
        "# Create transforms\n",
        "data_transform = transforms.Compose([\n",
        "    transforms.Resize(IMG_SIZE),\n",
        "    transforms.ToTensor()\n",
        "])\n",
        "\n",
        "# Create DataLoaders\n",
        "train_dataloader, test_dataloader, class_names = data_setup.create_dataloaders(train_dir,\n",
        "                                                                               test_dir,\n",
        "                                                                               data_transform,\n",
        "                                                                               BATCH_SIZE)\n",
        "\n",
        "# Create model\n",
        "model = model.TinyVGG(3, HIDDEN_UNITS, len(class_names)).to(device)\n",
        "\n",
        "# Train\n",
        "loss_fn = torch.nn.CrossEntropyLoss()\n",
        "optimizer = torch.optim.Adam(model.parameters(), LEARNING_RATE)\n",
        "results = engine.train(model, NUM_EPOCHS, loss_fn, optimizer,\n",
        "                       train_dataloader, test_dataloader, device)\n",
        "\n",
        "# Use utils\n",
        "if PLOT:\n",
        "  utils.plot_loss_curves(results)\n",
        "utils.save_model(model, \"models\", MODEL_NAME)"
      ],
      "metadata": {
        "id": "Kwzxafgwwec1",
        "colab": {
          "base_uri": "https://localhost:8080/"
        },
        "outputId": "0c1fd0ec-2caa-4776-da2e-d33227b00520"
      },
      "execution_count": 18,
      "outputs": [
        {
          "output_type": "stream",
          "name": "stdout",
          "text": [
            "Writing going_modular/train.py\n"
          ]
        }
      ]
    },
    {
      "cell_type": "code",
      "source": [
        "!python going_modular/train.py --num_epochs 5 --batch_size 32 --hidden_units 10 --lr 0.0001 --plot True --model_name \"model_0.pth\""
      ],
      "metadata": {
        "colab": {
          "base_uri": "https://localhost:8080/"
        },
        "id": "F6W6M3ySsVus",
        "outputId": "2d62b0e9-d4d2-46ab-f68e-3f0258094590"
      },
      "execution_count": 19,
      "outputs": [
        {
          "output_type": "stream",
          "name": "stdout",
          "text": [
            "  0% 0/5 [00:00<?, ?it/s]Epoch: 0 | Train loss: 1.0994 | Train acc: 28.12% Test loss: 1.0948 | Test acc: 54.17%\n",
            " 20% 1/5 [00:02<00:09,  2.33s/it]Epoch: 1 | Train loss: 1.0978 | Train acc: 44.92% Test loss: 1.0977 | Test acc: 29.07%\n",
            " 40% 2/5 [00:03<00:04,  1.65s/it]Epoch: 2 | Train loss: 1.1001 | Train acc: 36.33% Test loss: 1.0972 | Test acc: 40.25%\n",
            " 60% 3/5 [00:04<00:03,  1.51s/it]Epoch: 3 | Train loss: 1.0973 | Train acc: 51.17% Test loss: 1.0977 | Test acc: 40.25%\n",
            " 80% 4/5 [00:05<00:01,  1.32s/it]Epoch: 4 | Train loss: 1.0981 | Train acc: 32.42% Test loss: 1.0998 | Test acc: 17.71%\n",
            "100% 5/5 [00:06<00:00,  1.34s/it]\n",
            "Training time: 6.715 seconds\n",
            "[INFO] Saving model to: models/model_0.pth\n"
          ]
        }
      ]
    },
    {
      "cell_type": "markdown",
      "source": [
        "## Predict"
      ],
      "metadata": {
        "id": "kEiAKBLcx6PZ"
      }
    },
    {
      "cell_type": "code",
      "source": [
        "%%writefile predict.py\n",
        "import torch\n",
        "import torchvision\n",
        "import argparse\n",
        "\n",
        "from going_modular import model\n",
        "\n",
        "# Creating a parser\n",
        "parser = argparse.ArgumentParser()\n",
        "\n",
        "# Get hyperparameters\n",
        "parser.add_argument(\"--image\",\n",
        "                    help=\"target image filepath to predict on\")\n",
        "\n",
        "parser.add_argument(\"--model_path\",\n",
        "                    default=\"models/model_0.pth\",\n",
        "                    type=str,\n",
        "                    help=\"target model to use for prediction filepath\")\n",
        "parser.add_argument(\"--hidden_units\", type=int, help=\"TinyVGG hidden units\")\n",
        "\n",
        "args = parser.parse_args()\n",
        "HIDDEN_UNITS = args.hidden_units\n",
        "\n",
        "# Setup class names\n",
        "class_names = [\"pizza\", \"steak\", \"sushi\"]\n",
        "\n",
        "# Setup device\n",
        "device = \"cuda\" if torch.cuda.is_available() else \"cpu\"\n",
        "\n",
        "# Get the image path\n",
        "IMG_PATH = args.image\n",
        "print(f\"[INFO] Predicting on {IMG_PATH}\")\n",
        "\n",
        "# Function to load in the model\n",
        "def load_model(filepath=args.model_path):\n",
        "  # Need to use same hyperparameters as saved model\n",
        "  model_ = model.TinyVGG(input_shape=3,\n",
        "                                hidden_units=HIDDEN_UNITS,\n",
        "                                output_shape=len(class_names)).to(device)\n",
        "\n",
        "  print(f\"[INFO] Loading in model from: {filepath}\")\n",
        "  # Load in the saved model state dictionary from file\n",
        "  model_.load_state_dict(torch.load(filepath))\n",
        "\n",
        "  return model_\n",
        "\n",
        "# Function to load in model + predict on select image\n",
        "def predict_on_image(image_path=IMG_PATH, filepath=args.model_path):\n",
        "  # Load the model\n",
        "  model_ = load_model(filepath)\n",
        "\n",
        "  # Load in the image and turn it into torch.float32 (same type as model)\n",
        "  image = torchvision.io.read_image(str(IMG_PATH)).type(torch.float32)\n",
        "\n",
        "  # Preprocess the image to get it between 0 and 1\n",
        "  image = image / 255.\n",
        "\n",
        "  # Resize the image to be the same size as the model\n",
        "  transform = torchvision.transforms.Resize(size=(64, 64))\n",
        "  image = transform(image)\n",
        "\n",
        "  # Predict on image\n",
        "  model_.eval()\n",
        "  with torch.inference_mode():\n",
        "    # Put image to target device\n",
        "    image = image.to(device)\n",
        "\n",
        "    # Get pred logits\n",
        "    pred_logits = model_(image.unsqueeze(dim=0)) # make sure image has batch dimension (shape: [batch_size, height, width, color_channels])\n",
        "\n",
        "    # Get pred probs\n",
        "    pred_prob = torch.softmax(pred_logits, dim=1)\n",
        "\n",
        "    # Get pred labels\n",
        "    pred_label = torch.argmax(pred_prob, dim=1)\n",
        "    pred_label_class = class_names[pred_label]\n",
        "\n",
        "  print(f\"[INFO] Pred class: {pred_label_class}, Pred prob: {pred_prob.max():.3f}\")\n",
        "\n",
        "if __name__ == \"__main__\":\n",
        "  predict_on_image()"
      ],
      "metadata": {
        "colab": {
          "base_uri": "https://localhost:8080/"
        },
        "id": "zleLAQBWyPF4",
        "outputId": "a33fd0cb-20b1-4059-e2ce-8d6fc71b246c"
      },
      "execution_count": 20,
      "outputs": [
        {
          "output_type": "stream",
          "name": "stdout",
          "text": [
            "Writing predict.py\n"
          ]
        }
      ]
    },
    {
      "cell_type": "code",
      "source": [
        "!python predict.py --hidden_units 10 --image data/pizza_steak_sushi/test/sushi/175783.jpg"
      ],
      "metadata": {
        "colab": {
          "base_uri": "https://localhost:8080/"
        },
        "id": "wwteSDmGykvt",
        "outputId": "a1807078-3820-42f6-b945-814356aa4840"
      },
      "execution_count": 21,
      "outputs": [
        {
          "output_type": "stream",
          "name": "stdout",
          "text": [
            "[INFO] Predicting on data/pizza_steak_sushi/test/sushi/175783.jpg\n",
            "[INFO] Loading in model from: models/model_0.pth\n",
            "[INFO] Pred class: pizza, Pred prob: 0.334\n"
          ]
        }
      ]
    }
  ]
}