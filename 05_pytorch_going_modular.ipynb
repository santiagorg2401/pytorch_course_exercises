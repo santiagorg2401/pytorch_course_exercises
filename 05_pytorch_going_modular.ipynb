{
  "nbformat": 4,
  "nbformat_minor": 0,
  "metadata": {
    "colab": {
      "provenance": [],
      "collapsed_sections": [
        "bCGSyu4PnJiI",
        "AxCG_-T8ucyC",
        "GlHR5ePwowx5",
        "pk7QpbkotfTw",
        "Wu-0BEGIvFFJ"
      ],
      "gpuType": "T4",
      "authorship_tag": "ABX9TyM1dH0UzXOTWpF2zc10WRTp",
      "include_colab_link": true
    },
    "kernelspec": {
      "name": "python3",
      "display_name": "Python 3"
    },
    "language_info": {
      "name": "python"
    },
    "accelerator": "GPU"
  },
  "cells": [
    {
      "cell_type": "markdown",
      "metadata": {
        "id": "view-in-github",
        "colab_type": "text"
      },
      "source": [
        "<a href=\"https://colab.research.google.com/github/santiagorg2401/pytorch_course_exercises/blob/main/05_pytorch_going_modular.ipynb\" target=\"_parent\"><img src=\"https://colab.research.google.com/assets/colab-badge.svg\" alt=\"Open In Colab\"/></a>"
      ]
    },
    {
      "cell_type": "markdown",
      "source": [
        "# PyTorch Going Modular\n",
        "Notebook -> Python scripts"
      ],
      "metadata": {
        "id": "Suf-Bv_fpVfW"
      }
    },
    {
      "cell_type": "code",
      "source": [
        "!mkdir going_modular"
      ],
      "metadata": {
        "id": "VnDyMqCZiNhF"
      },
      "execution_count": 1,
      "outputs": []
    },
    {
      "cell_type": "markdown",
      "source": [
        "## Get data"
      ],
      "metadata": {
        "id": "bCGSyu4PnJiI"
      }
    },
    {
      "cell_type": "code",
      "source": [
        "import os\n",
        "import requests\n",
        "import zipfile\n",
        "from pathlib import Path\n",
        "\n",
        "# Setup path to data folder\n",
        "data_path = Path(\"data/\")\n",
        "image_path = data_path / \"pizza_steak_sushi\"\n",
        "\n",
        "# If the image folder doesn't exist, download it and prepare it...\n",
        "if image_path.is_dir():\n",
        "    print(f\"{image_path} directory exists.\")\n",
        "else:\n",
        "    print(f\"Did not find {image_path} directory, creating one...\")\n",
        "    image_path.mkdir(parents=True, exist_ok=True)\n",
        "\n",
        "# Download pizza, steak, sushi data\n",
        "with open(data_path / \"pizza_steak_sushi.zip\", \"wb\") as f:\n",
        "    request = requests.get(\"https://github.com/mrdbourke/pytorch-deep-learning/raw/main/data/pizza_steak_sushi.zip\")\n",
        "    print(\"Downloading pizza, steak, sushi data...\")\n",
        "    f.write(request.content)\n",
        "\n",
        "# Unzip pizza, steak, sushi data\n",
        "with zipfile.ZipFile(data_path / \"pizza_steak_sushi.zip\", \"r\") as zip_ref:\n",
        "    print(\"Unzipping pizza, steak, sushi data...\")\n",
        "    zip_ref.extractall(image_path)\n",
        "\n",
        "# Remove zip file\n",
        "os.remove(data_path / \"pizza_steak_sushi.zip\")\n",
        "\n",
        "# Setup train and testing paths\n",
        "train_dir = image_path / \"train\"\n",
        "test_dir = image_path / \"test\"\n",
        "\n",
        "train_dir, test_dir"
      ],
      "metadata": {
        "colab": {
          "base_uri": "https://localhost:8080/"
        },
        "id": "2-fkX3rYnInl",
        "outputId": "c25bb527-abf5-4541-bbee-0c92f7333885"
      },
      "execution_count": 2,
      "outputs": [
        {
          "output_type": "stream",
          "name": "stdout",
          "text": [
            "Did not find data/pizza_steak_sushi directory, creating one...\n",
            "Downloading pizza, steak, sushi data...\n",
            "Unzipping pizza, steak, sushi data...\n"
          ]
        },
        {
          "output_type": "execute_result",
          "data": {
            "text/plain": [
              "(PosixPath('data/pizza_steak_sushi/train'),\n",
              " PosixPath('data/pizza_steak_sushi/test'))"
            ]
          },
          "metadata": {},
          "execution_count": 2
        }
      ]
    },
    {
      "cell_type": "markdown",
      "source": [
        "## Create Datasets and DataLoaders"
      ],
      "metadata": {
        "id": "AxCG_-T8ucyC"
      }
    },
    {
      "cell_type": "code",
      "source": [
        "%%writefile going_modular/data_setup.py\n",
        "\"\"\"\n",
        "Handles functionality for handling PyTorch DataLoaders\n",
        "\"\"\"\n",
        "\n",
        "import os\n",
        "from torch.utils.data import DataLoader\n",
        "from torchvision import datasets, transforms\n",
        "\n",
        "NUM_WORKERS = os.cpu_count()\n",
        "\n",
        "def create_dataloaders(\n",
        "    train_dir: str,\n",
        "    test_dir: str,\n",
        "    transform: transforms.Compose,\n",
        "    batch_size: int,\n",
        "    num_workers: int=NUM_WORKERS\n",
        "):\n",
        "  \"\"\"\n",
        "  Creates Training and testing DataLoaders\n",
        "  Args:\n",
        "    train_dir: Path to training directory,\n",
        "    test_dir: Path to testing directory,\n",
        "    transform: torchvision transforms to perform on data,\n",
        "    batch_size: Batch size,\n",
        "    num_workers: Number of workers per dataloader\n",
        "\n",
        "  Returns:\n",
        "    (train_dataloader, test_dataloader, class_names)\n",
        "  \"\"\"\n",
        "  # use ImageFolder to create datasets\n",
        "  train_data = datasets.ImageFolder(train_dir, transform)\n",
        "  test_data = datasets.ImageFolder(test_dir, transform)\n",
        "\n",
        "  # Get class names\n",
        "  class_names = train_data.classes\n",
        "\n",
        "  # Turn datasets into DataLoaders\n",
        "  train_dataloader = DataLoader(train_data, batch_size, True,\n",
        "                                num_workers=num_workers, pin_memory=True)\n",
        "  test_dataloader = DataLoader(test_data, batch_size, False,\n",
        "                               num_workers=num_workers, pin_memory=True)\n",
        "\n",
        "  return train_dataloader, test_dataloader, class_names"
      ],
      "metadata": {
        "id": "6iQv7-9Avf8i",
        "colab": {
          "base_uri": "https://localhost:8080/"
        },
        "outputId": "20804e29-a79d-4d8a-9b89-65b4e5d458af"
      },
      "execution_count": 3,
      "outputs": [
        {
          "output_type": "stream",
          "name": "stdout",
          "text": [
            "Writing going_modular/data_setup.py\n"
          ]
        }
      ]
    },
    {
      "cell_type": "code",
      "source": [
        "from torchvision import transforms\n",
        "from going_modular import data_setup\n",
        "\n",
        "BATCH_SIZE = 32\n",
        "\n",
        "data_transform = transforms.Compose([\n",
        "    transforms.Resize((64, 64)),\n",
        "    transforms.ToTensor(),\n",
        "])\n",
        "\n",
        "train_dataloader, test_dataloader, class_names = data_setup.create_dataloaders(train_dir,\n",
        "                                                                               test_dir,\n",
        "                                                                               data_transform,\n",
        "                                                                               BATCH_SIZE)"
      ],
      "metadata": {
        "id": "QH-bHIG_nPiU"
      },
      "execution_count": 4,
      "outputs": []
    },
    {
      "cell_type": "markdown",
      "source": [
        "## Create TinyVGG model"
      ],
      "metadata": {
        "id": "GlHR5ePwowx5"
      }
    },
    {
      "cell_type": "code",
      "source": [
        "%%writefile going_modular/model.py\n",
        "\"\"\"\n",
        "Contains PyTorch model code to instantiate a TinyVGG model.\n",
        "\"\"\"\n",
        "import torch\n",
        "from torch import nn\n",
        "\n",
        "class TinyVGG(nn.Module):\n",
        "    \"\"\"Creates the TinyVGG architecture.\n",
        "\n",
        "    Replicates the TinyVGG architecture from the CNN explainer website in PyTorch.\n",
        "    See the original architecture here: https://poloclub.github.io/cnn-explainer/\n",
        "\n",
        "    Args:\n",
        "    input_shape: An integer indicating number of input channels.\n",
        "    hidden_units: An integer indicating number of hidden units between layers.\n",
        "    output_shape: An integer indicating number of output units.\n",
        "    \"\"\"\n",
        "    def __init__(self, input_shape: int, hidden_units: int, output_shape: int) -> None:\n",
        "        super().__init__()\n",
        "        self.conv_block_1 = nn.Sequential(\n",
        "          nn.Conv2d(in_channels=input_shape,\n",
        "                    out_channels=hidden_units,\n",
        "                    kernel_size=3,\n",
        "                    stride=1,\n",
        "                    padding=0),\n",
        "          nn.ReLU(),\n",
        "          nn.Conv2d(in_channels=hidden_units,\n",
        "                    out_channels=hidden_units,\n",
        "                    kernel_size=3,\n",
        "                    stride=1,\n",
        "                    padding=0),\n",
        "          nn.ReLU(),\n",
        "          nn.MaxPool2d(kernel_size=2,\n",
        "                        stride=2)\n",
        "        )\n",
        "        self.conv_block_2 = nn.Sequential(\n",
        "          nn.Conv2d(hidden_units, hidden_units, kernel_size=3, padding=0),\n",
        "          nn.ReLU(),\n",
        "          nn.Conv2d(hidden_units, hidden_units, kernel_size=3, padding=0),\n",
        "          nn.ReLU(),\n",
        "          nn.MaxPool2d(2)\n",
        "        )\n",
        "        self.classifier = nn.Sequential(\n",
        "          nn.Flatten(),\n",
        "          # Where did this in_features shape come from?\n",
        "          # It's because each layer of our network compresses and changes the shape of our inputs data.\n",
        "          nn.Linear(in_features=hidden_units*13*13,\n",
        "                    out_features=output_shape)\n",
        "        )\n",
        "\n",
        "    def forward(self, x: torch.Tensor):\n",
        "        return self.classifier(self.conv_block_2(self.conv_block_1(x)))"
      ],
      "metadata": {
        "id": "xyqDlvCFozoQ",
        "colab": {
          "base_uri": "https://localhost:8080/"
        },
        "outputId": "830947b0-49a2-4d0f-e0f8-f8b1f4bb9615"
      },
      "execution_count": 5,
      "outputs": [
        {
          "output_type": "stream",
          "name": "stdout",
          "text": [
            "Writing going_modular/model.py\n"
          ]
        }
      ]
    },
    {
      "cell_type": "code",
      "source": [
        "import torch\n",
        "from going_modular import model\n",
        "\n",
        "device = \"cuda\" if torch.cuda.is_available() else \"cpu\"\n",
        "\n",
        "model_1 = model.TinyVGG(3, 10, len(class_names)).to(device)\n",
        "model_1"
      ],
      "metadata": {
        "colab": {
          "base_uri": "https://localhost:8080/"
        },
        "id": "pRyI9TUksqzZ",
        "outputId": "ba96811e-b0dc-4ade-c7fc-8b11b05066f2"
      },
      "execution_count": 6,
      "outputs": [
        {
          "output_type": "execute_result",
          "data": {
            "text/plain": [
              "TinyVGG(\n",
              "  (conv_block_1): Sequential(\n",
              "    (0): Conv2d(3, 10, kernel_size=(3, 3), stride=(1, 1))\n",
              "    (1): ReLU()\n",
              "    (2): Conv2d(10, 10, kernel_size=(3, 3), stride=(1, 1))\n",
              "    (3): ReLU()\n",
              "    (4): MaxPool2d(kernel_size=2, stride=2, padding=0, dilation=1, ceil_mode=False)\n",
              "  )\n",
              "  (conv_block_2): Sequential(\n",
              "    (0): Conv2d(10, 10, kernel_size=(3, 3), stride=(1, 1))\n",
              "    (1): ReLU()\n",
              "    (2): Conv2d(10, 10, kernel_size=(3, 3), stride=(1, 1))\n",
              "    (3): ReLU()\n",
              "    (4): MaxPool2d(kernel_size=2, stride=2, padding=0, dilation=1, ceil_mode=False)\n",
              "  )\n",
              "  (classifier): Sequential(\n",
              "    (0): Flatten(start_dim=1, end_dim=-1)\n",
              "    (1): Linear(in_features=1690, out_features=3, bias=True)\n",
              "  )\n",
              ")"
            ]
          },
          "metadata": {},
          "execution_count": 6
        }
      ]
    },
    {
      "cell_type": "markdown",
      "source": [
        "## Engine"
      ],
      "metadata": {
        "id": "pk7QpbkotfTw"
      }
    },
    {
      "cell_type": "code",
      "source": [
        "%%writefile going_modular/engine.py\n",
        "import torch\n",
        "\n",
        "from torch import nn\n",
        "from tqdm.auto import tqdm\n",
        "from torch.utils.data import DataLoader\n",
        "from typing import Tuple, List, Dict\n",
        "from timeit import default_timer as timer\n",
        "\n",
        "def train_step(model: nn.Module,\n",
        "               dataloader: DataLoader,\n",
        "               loss_fn: nn.Module,\n",
        "               optimizer: torch.optim.Optimizer,\n",
        "               device):\n",
        "\n",
        "  model.train()\n",
        "  train_loss, train_acc = 0, 0\n",
        "\n",
        "  for batch, (X, y) in enumerate(dataloader):\n",
        "    X, y = X.to(device), y.to(device)\n",
        "    y_pred = model(X)\n",
        "    loss = loss_fn(y_pred, y)\n",
        "    train_loss += loss\n",
        "    optimizer.zero_grad()\n",
        "    loss.backward()\n",
        "    optimizer.step()\n",
        "\n",
        "    # Calculate accuracy\n",
        "    y_pred_class = torch.argmax(torch.softmax(y_pred, dim=1), dim=1)\n",
        "    train_acc += (y_pred_class==y).sum().item()/len(y_pred)\n",
        "\n",
        "  # Compute average loss and accuracy per batch\n",
        "  train_loss /= len(dataloader)\n",
        "  train_acc /= len(dataloader)\n",
        "\n",
        "  return train_loss, train_acc\n",
        "\n",
        "def test_step(model: nn.Module,\n",
        "              dataloader: DataLoader,\n",
        "              loss_fn: nn.Module,\n",
        "              device):\n",
        "  model.eval()\n",
        "  test_loss, test_acc = 0, 0\n",
        "  with torch.inference_mode():\n",
        "    for batch, (X, y) in enumerate(dataloader):\n",
        "      X, y = X.to(device), y.to(device)\n",
        "      y_pred = model(X)\n",
        "      loss = loss_fn(y_pred, y)\n",
        "      test_loss += loss\n",
        "      y_pred_class = torch.argmax(torch.softmax(y_pred, dim=1),dim=-1)\n",
        "      test_acc += (y_pred_class==y).sum().item()/len(y_pred)\n",
        "\n",
        "    test_loss /= len(dataloader)\n",
        "    test_acc /= len(dataloader)\n",
        "\n",
        "  return test_loss, test_acc\n",
        "\n",
        "def train(model: nn.Module,\n",
        "          epochs: int,\n",
        "          loss_fn: nn.Module,\n",
        "          optimizer: torch.optim.Optimizer,\n",
        "          train_dataloader: DataLoader,\n",
        "          test_dataloader: DataLoader,\n",
        "          device):\n",
        "\n",
        "  results = {\"train_loss\":[],\n",
        "             \"train_acc\":[],\n",
        "             \"test_loss\":[],\n",
        "             \"test_acc\":[],\n",
        "             \"train_time\":None}\n",
        "  t0 = timer()\n",
        "  for epoch in tqdm(range(epochs)):\n",
        "    train_loss, train_acc = train_step(model,\n",
        "                                       train_dataloader,\n",
        "                                       loss_fn,\n",
        "                                       optimizer,\n",
        "                                       device)\n",
        "    test_loss, test_acc = test_step(model,\n",
        "                                    test_dataloader,\n",
        "                                    loss_fn,\n",
        "                                    device)\n",
        "    # Update results per epoch\n",
        "    results[\"train_loss\"].append(train_loss.to(\"cpu\").detach().numpy())\n",
        "    results[\"train_acc\"].append(train_acc)\n",
        "    results[\"test_loss\"].append(test_loss.to(\"cpu\").detach().numpy())\n",
        "    results[\"test_acc\"].append(test_acc)\n",
        "\n",
        "    log = f\"Epoch: {epoch} | \" \\\n",
        "          f\"Train loss: {train_loss:.4f} | Train acc: {train_acc*100:.2f}% \" \\\n",
        "          f\"Test loss: {test_loss:.4f} | Test acc: {test_acc*100:.2f}%\"\n",
        "    print(log)\n",
        "\n",
        "  t1 = timer()\n",
        "  results[\"train_time\"] = t1 - t0\n",
        "  print(f\"Training time: {t1 - t0:.3f} seconds\")\n",
        "\n",
        "  return results"
      ],
      "metadata": {
        "colab": {
          "base_uri": "https://localhost:8080/"
        },
        "id": "DVlsAX02tg-N",
        "outputId": "ec656439-a51b-4c84-b4bb-ee6f8b381f20"
      },
      "execution_count": 7,
      "outputs": [
        {
          "output_type": "stream",
          "name": "stdout",
          "text": [
            "Writing going_modular/engine.py\n"
          ]
        }
      ]
    },
    {
      "cell_type": "markdown",
      "source": [
        "## Utilities"
      ],
      "metadata": {
        "id": "Wu-0BEGIvFFJ"
      }
    },
    {
      "cell_type": "code",
      "source": [
        "%%writefile going_modular/utils.py\n",
        "import torch\n",
        "import matplotlib.pyplot as plt\n",
        "\n",
        "from pathlib import Path\n",
        "\n",
        "def plot_loss_curves(results):\n",
        "  epochs = range(len(results[\"train_loss\"]))\n",
        "  # Loss\n",
        "  plt.figure(figsize=(15,7))\n",
        "  plt.subplot(1, 2, 1)\n",
        "  plt.plot(epochs, results[\"train_loss\"], label=\"Train\")\n",
        "  plt.plot(epochs, results[\"test_loss\"], label=\"Test\")\n",
        "  plt.title(\"Loss\")\n",
        "  plt.xlabel(\"Epochs\")\n",
        "  plt.legend()\n",
        "\n",
        "  # Accuracy\n",
        "  plt.subplot(1, 2, 2)\n",
        "  plt.plot(epochs, results[\"train_acc\"], label=\"Train\")\n",
        "  plt.plot(epochs, results[\"test_acc\"], label=\"Test\")\n",
        "  plt.title(\"Accuracy\")\n",
        "  plt.xlabel(\"Epochs\")\n",
        "  plt.legend()\n",
        "\n",
        "def save_model(model: torch.nn.Module,\n",
        "               target_dir: str,\n",
        "               model_name: str):\n",
        "    \"\"\"Saves a PyTorch model to a target directory.\n",
        "\n",
        "    Args:\n",
        "    model: A target PyTorch model to save.\n",
        "    target_dir: A directory for saving the model to.\n",
        "    model_name: A filename for the saved model. Should include\n",
        "      either \".pth\" or \".pt\" as the file extension.\n",
        "\n",
        "    Example usage:\n",
        "    save_model(model=model_0,\n",
        "               target_dir=\"models\",\n",
        "               model_name=\"05_going_modular_tingvgg_model.pth\")\n",
        "    \"\"\"\n",
        "    # Create target directory\n",
        "    target_dir_path = Path(target_dir)\n",
        "    target_dir_path.mkdir(parents=True,\n",
        "                        exist_ok=True)\n",
        "\n",
        "    # Create model save path\n",
        "    assert model_name.endswith(\".pth\") or model_name.endswith(\".pt\"), \"model_name should end with '.pt' or '.pth'\"\n",
        "    model_save_path = target_dir_path / model_name\n",
        "\n",
        "    # Save the model state_dict()\n",
        "    print(f\"[INFO] Saving model to: {model_save_path}\")\n",
        "    torch.save(obj=model.state_dict(),\n",
        "             f=model_save_path)"
      ],
      "metadata": {
        "colab": {
          "base_uri": "https://localhost:8080/"
        },
        "id": "BKX0iszBvGIB",
        "outputId": "67ce7fc4-ccad-494b-c464-5387d2015322"
      },
      "execution_count": 8,
      "outputs": [
        {
          "output_type": "stream",
          "name": "stdout",
          "text": [
            "Writing going_modular/utils.py\n"
          ]
        }
      ]
    },
    {
      "cell_type": "markdown",
      "source": [
        "## Train"
      ],
      "metadata": {
        "id": "oOY94FenwZ_G"
      }
    },
    {
      "cell_type": "code",
      "source": [
        "%%writefile going_modular/train.py\n",
        "import os\n",
        "import torch\n",
        "import argparse\n",
        "from torchvision import transforms\n",
        "import data_setup, engine, model, utils\n",
        "\n",
        "# Set Hyperparameters\n",
        "parser = argparse.ArgumentParser(description=\"Train a TinyVGG model on PyTorch\")\n",
        "parser.add_argument(\"num_epochs\", type=int, help=\"Number of epochs\")\n",
        "parser.add_argument(\"batch_size\", type=int, help=\"Number of samples per batch\")\n",
        "parser.add_argument(\"hidden_units\", type=int, help=\"TinyVGG hidden units\")\n",
        "parser.add_argument(\"lr\", type=float, help=\"Learning rate\")\n",
        "parser.add_argument(\"plot\", type=bool, help=\"Plot loss curves\")\n",
        "parser.add_argument(\"model_name\", help=\"Model name, include .pt ot .pth\")\n",
        "args = parser.parse_args()\n",
        "\n",
        "NUM_EPOCHS = args.num_epochs\n",
        "BATCH_SIZE = args.batch_size\n",
        "HIDDEN_UNITS = args.hidden_units\n",
        "IMG_SIZE = (64, 64)\n",
        "LEARNING_RATE = args.lr\n",
        "PLOT = args.plot\n",
        "MODEL_NAME = args.model_name\n",
        "\n",
        "# Setup directories\n",
        "train_dir = \"data/pizza_steak_sushi/train\"\n",
        "test_dir = \"data/pizza_steak_sushi/test\"\n",
        "\n",
        "# Setup device agnostic code\n",
        "device = \"cuda\" if torch.cuda.is_available() else \"cpu\"\n",
        "\n",
        "# Create transforms\n",
        "data_transform = transforms.Compose([\n",
        "    transforms.Resize(IMG_SIZE),\n",
        "    transforms.ToTensor()\n",
        "])\n",
        "\n",
        "# Create DataLoaders\n",
        "train_dataloader, test_dataloader, class_names = data_setup.create_dataloaders(train_dir,\n",
        "                                                                               test_dir,\n",
        "                                                                               data_transform,\n",
        "                                                                               BATCH_SIZE)\n",
        "\n",
        "# Create model\n",
        "model = model.TinyVGG(3, HIDDEN_UNITS, len(class_names)).to(device)\n",
        "\n",
        "# Train\n",
        "loss_fn = torch.nn.CrossEntropyLoss()\n",
        "optimizer = torch.optim.Adam(model.parameters(), LEARNING_RATE)\n",
        "results = engine.train(model, NUM_EPOCHS, loss_fn, optimizer,\n",
        "                       train_dataloader, test_dataloader, device)\n",
        "\n",
        "# Use utils\n",
        "if PLOT:\n",
        "  utils.plot_loss_curves(results)\n",
        "utils.save_model(model, \"models\", MODEL_NAME)"
      ],
      "metadata": {
        "id": "Kwzxafgwwec1",
        "colab": {
          "base_uri": "https://localhost:8080/"
        },
        "outputId": "7aa8a643-853b-4698-cbf9-e794c6207053"
      },
      "execution_count": 9,
      "outputs": [
        {
          "output_type": "stream",
          "name": "stdout",
          "text": [
            "Writing going_modular/train.py\n"
          ]
        }
      ]
    },
    {
      "cell_type": "code",
      "source": [
        "!python going_modular/train.py 5 32 10 0.0001 True \"model_0.pth\""
      ],
      "metadata": {
        "colab": {
          "base_uri": "https://localhost:8080/"
        },
        "id": "F6W6M3ySsVus",
        "outputId": "6f332ec7-f082-47a2-ccba-eba42659f489"
      },
      "execution_count": 10,
      "outputs": [
        {
          "output_type": "stream",
          "name": "stdout",
          "text": [
            "  0% 0/5 [00:00<?, ?it/s]Epoch: 0 | Train loss: 1.1003 | Train acc: 30.47% Test loss: 1.1010 | Test acc: 26.04%\n",
            " 20% 1/5 [00:02<00:09,  2.37s/it]Epoch: 1 | Train loss: 1.0955 | Train acc: 42.58% Test loss: 1.0990 | Test acc: 26.04%\n",
            " 40% 2/5 [00:03<00:04,  1.46s/it]Epoch: 2 | Train loss: 1.0988 | Train acc: 30.47% Test loss: 1.0984 | Test acc: 26.04%\n",
            " 60% 3/5 [00:04<00:02,  1.19s/it]Epoch: 3 | Train loss: 1.1017 | Train acc: 30.47% Test loss: 1.0963 | Test acc: 26.04%\n",
            " 80% 4/5 [00:04<00:01,  1.08s/it]Epoch: 4 | Train loss: 1.0955 | Train acc: 42.58% Test loss: 1.0972 | Test acc: 26.04%\n",
            "100% 5/5 [00:06<00:00,  1.23s/it]\n",
            "Training time: 6.153 seconds\n",
            "[INFO] Saving model to: models/model_0.pth\n"
          ]
        }
      ]
    }
  ]
}